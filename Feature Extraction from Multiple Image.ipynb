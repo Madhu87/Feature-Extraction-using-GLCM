{
 "cells": [
  {
   "cell_type": "markdown",
   "metadata": {},
   "source": [
    "## Importing Required Libraries"
   ]
  },
  {
   "cell_type": "code",
   "execution_count": 10,
   "metadata": {},
   "outputs": [],
   "source": [
    "import pandas as pd\n",
    "import numpy as np\n",
    "from skimage.feature import greycomatrix, greycoprops\n",
    "from skimage import io, color, img_as_ubyte\n",
    "import os    \n",
    "import cv2"
   ]
  },
  {
   "cell_type": "code",
   "execution_count": 2,
   "metadata": {},
   "outputs": [],
   "source": [
    "df = pd.DataFrame(columns=['Contrast Feature','Dissimilarity Feature','Homogeneity Feature','Energy Feature','Correlation Feature','ASM Feature'])"
   ]
  },
  {
   "cell_type": "code",
   "execution_count": 3,
   "metadata": {},
   "outputs": [],
   "source": [
    "matrix1 = []"
   ]
  },
  {
   "cell_type": "markdown",
   "metadata": {},
   "source": [
    "### Matrix"
   ]
  },
  {
   "cell_type": "code",
   "execution_count": 4,
   "metadata": {},
   "outputs": [],
   "source": [
    "path_of_images = r\"C:/Users/Madhu mitha/Pictures/Images\"\n",
    "list_of_images = os.listdir(path_of_images)\n",
    "for image in list_of_images:\n",
    "    img = cv2.imread(os.path.join(path_of_images, image))\n",
    "    gray = color.rgb2gray(img)\n",
    "    image = img_as_ubyte(gray)# Becomes 8-bit unsigned integer\n",
    "\n",
    "#This step is similar to data compression, because the 8-bit image contains 256 gray levels, which will cause the calculation of the gray level co-occurrence matrix to be too large, so it is compressed into 16 levels and the gray levels are divided\n",
    "    bins = np.array([0, 16, 32, 48, 64, 80, 96, 112, 128, 144, 160, 176, 192, 208, 224, 240, 255]) #16-bit\n",
    "    inds = np.digitize(image, bins)#Returns a matrix with the same size as the image, but the matrix element represents the interval position of the element in the image in the bins, less than 0 is 0, 0-16 is 1, and so on\n",
    "\n",
    "    max_value = inds.max()+1\n",
    "    matrix_coocurrence = greycomatrix(inds, #Numpy matrix for co-occurrence matrix calculation\n",
    "                                  [1],#Step\n",
    "                                  [0, np.pi/4, np.pi/2, 3*np.pi/4],#Direction angle\n",
    "                                  levels=max_value, #Co-occurrence matrix order\n",
    "                                  normed=False, symmetric=False)\n",
    "#P[i,j,d,theta] returns a four-dimensional matrix, each dimension represents a different meaning\n",
    "    matrix1.append(matrix_coocurrence)"
   ]
  },
  {
   "cell_type": "code",
   "execution_count": 5,
   "metadata": {},
   "outputs": [],
   "source": [
    "CF =[]\n",
    "DF =[]\n",
    "HF =[]\n",
    "EF =[]\n",
    "COR = []\n",
    "ASM = []"
   ]
  },
  {
   "cell_type": "markdown",
   "metadata": {},
   "source": [
    "# GLCM properties\n"
   ]
  },
  {
   "cell_type": "code",
   "execution_count": 6,
   "metadata": {},
   "outputs": [],
   "source": [
    "for matrix in matrix1:\n",
    "    def contrast_feature(matrix):\n",
    "       contrast = greycoprops(matrix)\n",
    "       return  list(contrast)\n",
    "\n",
    "    def dissimilarity_feature(matrix):\n",
    "       dissimilarity = greycoprops(matrix)\n",
    "       return list(dissimilarity)\n",
    "\n",
    "    def homogeneity_feature(matrix):\n",
    "       homogeneity = greycoprops(matrix)\n",
    "       return  list(homogeneity)\n",
    "\n",
    "    def energy_feature(matrix):\n",
    "       energy = greycoprops(matrix)\n",
    "       return list(energy)\n",
    "\n",
    "    def correlation_feature(matrix):\n",
    "       correlation = greycoprops(matrix)\n",
    "       return list(correlation)\n",
    "\n",
    "    def asm_feature(matrix):\n",
    "       asm = greycoprops(matrix)\n",
    "       return list(asm)\n",
    "    \n",
    "    CF.append(np.mean(contrast_feature(matrix)))\n",
    "    DF.append(np.mean(dissimilarity_feature(matrix)))\n",
    "    HF.append(np.mean(homogeneity_feature(matrix)))\n",
    "    EF.append(np.mean(energy_feature(matrix)))\n",
    "    COR.append(np.mean(correlation_feature(matrix)))\n",
    "    ASM.append(np.mean(asm_feature(matrix)))"
   ]
  },
  {
   "cell_type": "code",
   "execution_count": 7,
   "metadata": {},
   "outputs": [],
   "source": [
    "Features = [CF,DF,HF,EF,COR,ASM]\n",
    "for i,j in zip(df.columns,Features):\n",
    "    df[i] = j"
   ]
  },
  {
   "cell_type": "code",
   "execution_count": 8,
   "metadata": {},
   "outputs": [],
   "source": [
    "df.index = ['Image1','Image2','Image3','Image4','Image5','Image6','Image7']\n",
    "df.index.name = 'Image ID'"
   ]
  },
  {
   "cell_type": "code",
   "execution_count": 9,
   "metadata": {},
   "outputs": [
    {
     "data": {
      "text/html": [
       "<div>\n",
       "<style scoped>\n",
       "    .dataframe tbody tr th:only-of-type {\n",
       "        vertical-align: middle;\n",
       "    }\n",
       "\n",
       "    .dataframe tbody tr th {\n",
       "        vertical-align: top;\n",
       "    }\n",
       "\n",
       "    .dataframe thead th {\n",
       "        text-align: right;\n",
       "    }\n",
       "</style>\n",
       "<table border=\"1\" class=\"dataframe\">\n",
       "  <thead>\n",
       "    <tr style=\"text-align: right;\">\n",
       "      <th></th>\n",
       "      <th>Contrast Feature</th>\n",
       "      <th>Dissimilarity Feature</th>\n",
       "      <th>Homogeneity Feature</th>\n",
       "      <th>Energy Feature</th>\n",
       "      <th>Correlation Feature</th>\n",
       "      <th>ASM Feature</th>\n",
       "    </tr>\n",
       "    <tr>\n",
       "      <th>Image ID</th>\n",
       "      <th></th>\n",
       "      <th></th>\n",
       "      <th></th>\n",
       "      <th></th>\n",
       "      <th></th>\n",
       "      <th></th>\n",
       "    </tr>\n",
       "  </thead>\n",
       "  <tbody>\n",
       "    <tr>\n",
       "      <th>Image1</th>\n",
       "      <td>0.392558</td>\n",
       "      <td>0.392558</td>\n",
       "      <td>0.392558</td>\n",
       "      <td>0.392558</td>\n",
       "      <td>0.392558</td>\n",
       "      <td>0.392558</td>\n",
       "    </tr>\n",
       "    <tr>\n",
       "      <th>Image2</th>\n",
       "      <td>0.795404</td>\n",
       "      <td>0.795404</td>\n",
       "      <td>0.795404</td>\n",
       "      <td>0.795404</td>\n",
       "      <td>0.795404</td>\n",
       "      <td>0.795404</td>\n",
       "    </tr>\n",
       "    <tr>\n",
       "      <th>Image3</th>\n",
       "      <td>2.000298</td>\n",
       "      <td>2.000298</td>\n",
       "      <td>2.000298</td>\n",
       "      <td>2.000298</td>\n",
       "      <td>2.000298</td>\n",
       "      <td>2.000298</td>\n",
       "    </tr>\n",
       "    <tr>\n",
       "      <th>Image4</th>\n",
       "      <td>0.752257</td>\n",
       "      <td>0.752257</td>\n",
       "      <td>0.752257</td>\n",
       "      <td>0.752257</td>\n",
       "      <td>0.752257</td>\n",
       "      <td>0.752257</td>\n",
       "    </tr>\n",
       "    <tr>\n",
       "      <th>Image5</th>\n",
       "      <td>1.249309</td>\n",
       "      <td>1.249309</td>\n",
       "      <td>1.249309</td>\n",
       "      <td>1.249309</td>\n",
       "      <td>1.249309</td>\n",
       "      <td>1.249309</td>\n",
       "    </tr>\n",
       "    <tr>\n",
       "      <th>Image6</th>\n",
       "      <td>1.916441</td>\n",
       "      <td>1.916441</td>\n",
       "      <td>1.916441</td>\n",
       "      <td>1.916441</td>\n",
       "      <td>1.916441</td>\n",
       "      <td>1.916441</td>\n",
       "    </tr>\n",
       "    <tr>\n",
       "      <th>Image7</th>\n",
       "      <td>6.809994</td>\n",
       "      <td>6.809994</td>\n",
       "      <td>6.809994</td>\n",
       "      <td>6.809994</td>\n",
       "      <td>6.809994</td>\n",
       "      <td>6.809994</td>\n",
       "    </tr>\n",
       "  </tbody>\n",
       "</table>\n",
       "</div>"
      ],
      "text/plain": [
       "          Contrast Feature  Dissimilarity Feature  Homogeneity Feature  \\\n",
       "Image ID                                                                 \n",
       "Image1            0.392558               0.392558             0.392558   \n",
       "Image2            0.795404               0.795404             0.795404   \n",
       "Image3            2.000298               2.000298             2.000298   \n",
       "Image4            0.752257               0.752257             0.752257   \n",
       "Image5            1.249309               1.249309             1.249309   \n",
       "Image6            1.916441               1.916441             1.916441   \n",
       "Image7            6.809994               6.809994             6.809994   \n",
       "\n",
       "          Energy Feature  Correlation Feature  ASM Feature  \n",
       "Image ID                                                    \n",
       "Image1          0.392558             0.392558     0.392558  \n",
       "Image2          0.795404             0.795404     0.795404  \n",
       "Image3          2.000298             2.000298     2.000298  \n",
       "Image4          0.752257             0.752257     0.752257  \n",
       "Image5          1.249309             1.249309     1.249309  \n",
       "Image6          1.916441             1.916441     1.916441  \n",
       "Image7          6.809994             6.809994     6.809994  "
      ]
     },
     "execution_count": 9,
     "metadata": {},
     "output_type": "execute_result"
    }
   ],
   "source": [
    "df"
   ]
  },
  {
   "cell_type": "code",
   "execution_count": 12,
   "metadata": {},
   "outputs": [],
   "source": [
    "df.to_excel('Feature Extraction.xlsx')"
   ]
  },
  {
   "cell_type": "code",
   "execution_count": null,
   "metadata": {},
   "outputs": [],
   "source": []
  }
 ],
 "metadata": {
  "kernelspec": {
   "display_name": "Python 3",
   "language": "python",
   "name": "python3"
  },
  "language_info": {
   "codemirror_mode": {
    "name": "ipython",
    "version": 3
   },
   "file_extension": ".py",
   "mimetype": "text/x-python",
   "name": "python",
   "nbconvert_exporter": "python",
   "pygments_lexer": "ipython3",
   "version": "3.8.5"
  }
 },
 "nbformat": 4,
 "nbformat_minor": 4
}
