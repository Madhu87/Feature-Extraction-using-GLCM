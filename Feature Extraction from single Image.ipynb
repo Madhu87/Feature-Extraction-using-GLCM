{
 "cells": [
  {
   "cell_type": "code",
   "execution_count": 3,
   "metadata": {},
   "outputs": [],
   "source": [
    "import numpy as np\n",
    "from skimage.feature import greycomatrix, greycoprops\n",
    "from skimage import io, color, img_as_ubyte\n",
    "\n",
    "img = io.imread('C:/Users/Madhu mitha/Desktop/Training/lion.jpg')\n",
    "\n",
    "gray = color.rgb2gray(img)\n",
    "image = img_as_ubyte(gray)# Becomes 8-bit unsigned integer\n",
    "\n",
    "#This step is similar to data compression, because the 8-bit image contains 256 gray levels, which will cause the calculation of the gray level co-occurrence matrix to be too large, so it is compressed into 16 levels and the gray levels are divided\n",
    "bins = np.array([0, 16, 32, 48, 64, 80, 96, 112, 128, 144, 160, 176, 192, 208, 224, 240, 255]) #16-bit\n",
    "inds = np.digitize(image, bins)#Returns a matrix with the same size as the image, but the matrix element represents the interval position of the element in the image in the bins, less than 0 is 0, 0-16 is 1, and so on\n",
    "\n",
    "max_value = inds.max()+1\n",
    "matrix_coocurrence = greycomatrix(inds, #Numpy matrix for co-occurrence matrix calculation\n",
    "                                  [1],#Step\n",
    "                                  [0, np.pi/4, np.pi/2, 3*np.pi/4],#Direction angle\n",
    "                                  levels=max_value, #Co-occurrence matrix order\n",
    "                                  normed=False, symmetric=False)\n",
    "#P[i,j,d,theta] returns a four-dimensional matrix, each dimension represents a different meaning\n",
    "\n",
    "\n",
    "# GLCM properties\n",
    "def contrast_feature(matrix_coocurrence):\n",
    "   contrast = greycoprops(matrix_coocurrence, 'contrast')\n",
    "   return  contrast\n",
    "\n",
    "def dissimilarity_feature(matrix_coocurrence):\n",
    "   dissimilarity = greycoprops(matrix_coocurrence, 'dissimilarity')\n",
    "   return dissimilarity\n",
    "\n",
    "def homogeneity_feature(matrix_coocurrence):\n",
    "   homogeneity = greycoprops(matrix_coocurrence, 'homogeneity')\n",
    "   return  homogeneity\n",
    "\n",
    "def energy_feature(matrix_coocurrence):\n",
    "   energy = greycoprops(matrix_coocurrence, 'energy')\n",
    "   return energy\n",
    "\n",
    "def correlation_feature(matrix_coocurrence):\n",
    "   correlation = greycoprops(matrix_coocurrence, 'correlation')\n",
    "   return correlation\n",
    "\n",
    "def asm_feature(matrix_coocurrence):\n",
    "   asm = greycoprops(matrix_coocurrence, 'ASM')\n",
    "   return asm\n",
    "\n",
    "Contrast_F = list(contrast_feature(matrix_coocurrence))\n",
    "Dissimilarity_F = list(dissimilarity_feature(matrix_coocurrence))\n",
    "Homogeneity_F = list(homogeneity_feature(matrix_coocurrence))\n",
    "Energy_F = list(energy_feature(matrix_coocurrence))\n",
    "Correlation_F = list(correlation_feature(matrix_coocurrence))\n",
    "ASM_F = list(asm_feature(matrix_coocurrence))"
   ]
  },
  {
   "cell_type": "code",
   "execution_count": 5,
   "metadata": {},
   "outputs": [],
   "source": [
    "import pandas as pd\n",
    "\n",
    "df = pd.DataFrame(index=['ImageID'],columns=['Contrast Feature','Dissimilarity Feature','Homogeneity Feature','Energy Feature','Correlation Feature','ASM Feature'])"
   ]
  },
  {
   "cell_type": "code",
   "execution_count": 11,
   "metadata": {},
   "outputs": [],
   "source": [
    "df['Contrast Feature'] = np.mean(Contrast_F)\n",
    "df['Dissimilarity Feature'] = np.mean(Dissimilarity_F)\n",
    "df['Homogeneity Feature'] = np.mean(Homogeneity_F)\n",
    "df['Energy Feature'] = np.mean(Energy_F)\n",
    "df['Correlation Feature'] = np.mean(Correlation_F)\n",
    "df['ASM Feature'] = np.mean(ASM_F)"
   ]
  },
  {
   "cell_type": "code",
   "execution_count": 18,
   "metadata": {},
   "outputs": [],
   "source": [
    "Features=['Contrast_F','Dissimilarity_F','Homogeneity_F','Energy_F','Correlation_F','ASM_F']"
   ]
  },
  {
   "cell_type": "code",
   "execution_count": 23,
   "metadata": {},
   "outputs": [
    {
     "data": {
      "text/html": [
       "<div>\n",
       "<style scoped>\n",
       "    .dataframe tbody tr th:only-of-type {\n",
       "        vertical-align: middle;\n",
       "    }\n",
       "\n",
       "    .dataframe tbody tr th {\n",
       "        vertical-align: top;\n",
       "    }\n",
       "\n",
       "    .dataframe thead th {\n",
       "        text-align: right;\n",
       "    }\n",
       "</style>\n",
       "<table border=\"1\" class=\"dataframe\">\n",
       "  <thead>\n",
       "    <tr style=\"text-align: right;\">\n",
       "      <th></th>\n",
       "      <th>Contrast Feature</th>\n",
       "      <th>Dissimilarity Feature</th>\n",
       "      <th>Homogeneity Feature</th>\n",
       "      <th>Energy Feature</th>\n",
       "      <th>Correlation Feature</th>\n",
       "      <th>ASM Feature</th>\n",
       "    </tr>\n",
       "  </thead>\n",
       "  <tbody>\n",
       "    <tr>\n",
       "      <th>ImageID</th>\n",
       "      <td>1.231994</td>\n",
       "      <td>0.477105</td>\n",
       "      <td>0.81557</td>\n",
       "      <td>0.446642</td>\n",
       "      <td>0.969551</td>\n",
       "      <td>0.199501</td>\n",
       "    </tr>\n",
       "  </tbody>\n",
       "</table>\n",
       "</div>"
      ],
      "text/plain": [
       "         Contrast Feature  Dissimilarity Feature  Homogeneity Feature  \\\n",
       "ImageID          1.231994               0.477105              0.81557   \n",
       "\n",
       "         Energy Feature  Correlation Feature  ASM Feature  \n",
       "ImageID        0.446642             0.969551     0.199501  "
      ]
     },
     "execution_count": 23,
     "metadata": {},
     "output_type": "execute_result"
    }
   ],
   "source": [
    "df"
   ]
  }
 ],
 "metadata": {
  "kernelspec": {
   "display_name": "Python 3",
   "language": "python",
   "name": "python3"
  },
  "language_info": {
   "codemirror_mode": {
    "name": "ipython",
    "version": 3
   },
   "file_extension": ".py",
   "mimetype": "text/x-python",
   "name": "python",
   "nbconvert_exporter": "python",
   "pygments_lexer": "ipython3",
   "version": "3.8.5"
  }
 },
 "nbformat": 4,
 "nbformat_minor": 4
}
